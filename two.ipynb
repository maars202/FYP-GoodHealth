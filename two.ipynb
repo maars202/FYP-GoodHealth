{
 "cells": [
  {
   "cell_type": "code",
   "execution_count": 2,
   "metadata": {},
   "outputs": [
    {
     "name": "stdout",
     "output_type": "stream",
     "text": [
      "\u001b[33mDEPRECATION: Configuring installation scheme with distutils config files is deprecated and will no longer work in the near future. If you are using a Homebrew or Linuxbrew Python, please see discussion at https://github.com/Homebrew/homebrew-core/issues/76621\u001b[0m\u001b[33m\n",
      "\u001b[0mCollecting python-docx\n",
      "  Using cached python-docx-0.8.11.tar.gz (5.6 MB)\n",
      "  Preparing metadata (setup.py) ... \u001b[?25ldone\n",
      "\u001b[?25hRequirement already satisfied: lxml>=2.3.2 in /opt/homebrew/lib/python3.9/site-packages (from python-docx) (4.6.4)\n",
      "Building wheels for collected packages: python-docx\n",
      "  Building wheel for python-docx (setup.py) ... \u001b[?25ldone\n",
      "\u001b[?25h  Created wheel for python-docx: filename=python_docx-0.8.11-py3-none-any.whl size=184489 sha256=3779c078b27aabcf6b931ad922d7e3cc2f72e9af2f1ec7e3676cd0e49b98c193\n",
      "  Stored in directory: /Users/maarunipandithurai/Library/Caches/pip/wheels/83/8b/7c/09ae60c42c7ba4ed2dddaf2b8b9186cb105255856d6ed3dba5\n",
      "Successfully built python-docx\n",
      "Installing collected packages: python-docx\n",
      "\u001b[33m  DEPRECATION: Configuring installation scheme with distutils config files is deprecated and will no longer work in the near future. If you are using a Homebrew or Linuxbrew Python, please see discussion at https://github.com/Homebrew/homebrew-core/issues/76621\u001b[0m\u001b[33m\n",
      "\u001b[0m\u001b[33mDEPRECATION: Configuring installation scheme with distutils config files is deprecated and will no longer work in the near future. If you are using a Homebrew or Linuxbrew Python, please see discussion at https://github.com/Homebrew/homebrew-core/issues/76621\u001b[0m\u001b[33m\n",
      "\u001b[0mSuccessfully installed python-docx-0.8.11\n",
      "\n",
      "\u001b[1m[\u001b[0m\u001b[34;49mnotice\u001b[0m\u001b[1;39;49m]\u001b[0m\u001b[39;49m A new release of pip available: \u001b[0m\u001b[31;49m22.2.2\u001b[0m\u001b[39;49m -> \u001b[0m\u001b[32;49m23.0\u001b[0m\n",
      "\u001b[1m[\u001b[0m\u001b[34;49mnotice\u001b[0m\u001b[1;39;49m]\u001b[0m\u001b[39;49m To update, run: \u001b[0m\u001b[32;49mpython3.9 -m pip install --upgrade pip\u001b[0m\n"
     ]
    }
   ],
   "source": [
    "!pip install python-docx"
   ]
  },
  {
   "cell_type": "code",
   "execution_count": 14,
   "metadata": {},
   "outputs": [
    {
     "ename": "AttributeError",
     "evalue": "'Styles' object has no attribute 'keys'",
     "output_type": "error",
     "traceback": [
      "\u001b[0;31m---------------------------------------------------------------------------\u001b[0m",
      "\u001b[0;31mAttributeError\u001b[0m                            Traceback (most recent call last)",
      "Cell \u001b[0;32mIn[14], line 38\u001b[0m\n\u001b[1;32m     35\u001b[0m     document\u001b[39m.\u001b[39msave(\u001b[39m'\u001b[39m\u001b[39mdemo2.docx\u001b[39m\u001b[39m'\u001b[39m)\n\u001b[1;32m     36\u001b[0m     \u001b[39mreturn\u001b[39;00m \u001b[39m\"\u001b[39m\u001b[39mdone\u001b[39m\u001b[39m\"\u001b[39m\n\u001b[0;32m---> 38\u001b[0m generate_cv_2(\u001b[39m\"\u001b[39;49m\u001b[39mm\u001b[39;49m\u001b[39m\"\u001b[39;49m)\n",
      "Cell \u001b[0;32mIn[14], line 13\u001b[0m, in \u001b[0;36mgenerate_cv_2\u001b[0;34m(id)\u001b[0m\n\u001b[1;32m     11\u001b[0m styles \u001b[39m=\u001b[39m document\u001b[39m.\u001b[39mstyles\n\u001b[1;32m     12\u001b[0m styles[\u001b[39m'\u001b[39m\u001b[39mHeading 1\u001b[39m\u001b[39m'\u001b[39m]\u001b[39m.\u001b[39mnext_paragraph_style \u001b[39m=\u001b[39m styles[\u001b[39m'\u001b[39m\u001b[39mBody Text\u001b[39m\u001b[39m'\u001b[39m]\n\u001b[0;32m---> 13\u001b[0m \u001b[39mprint\u001b[39m(document\u001b[39m.\u001b[39;49mstyles\u001b[39m.\u001b[39;49mkeys())\n\u001b[1;32m     16\u001b[0m \u001b[39m# records = (\u001b[39;00m\n\u001b[1;32m     17\u001b[0m \u001b[39m#     (3, '101', 'Spam'),\u001b[39;00m\n\u001b[1;32m     18\u001b[0m \u001b[39m#     (7, '422', 'Eggs'),\u001b[39;00m\n\u001b[0;32m   (...)\u001b[0m\n\u001b[1;32m     32\u001b[0m \n\u001b[1;32m     33\u001b[0m \u001b[39m# document.add_page_break()\u001b[39;00m\n\u001b[1;32m     35\u001b[0m document\u001b[39m.\u001b[39msave(\u001b[39m'\u001b[39m\u001b[39mdemo2.docx\u001b[39m\u001b[39m'\u001b[39m)\n",
      "\u001b[0;31mAttributeError\u001b[0m: 'Styles' object has no attribute 'keys'"
     ]
    }
   ],
   "source": [
    "from docx import Document\n",
    "from docx.shared import Inches\n",
    "\n",
    "def generate_cv_2(id):\n",
    "    document = Document()\n",
    "    h = document.add_heading('Document Title', 0)\n",
    "    p = document.add_paragraph('A plain paragraph having some ')\n",
    "    p.add_run('bold').bold = True\n",
    "    p.add_run(' and some ')\n",
    "    p.add_run('italic.').italic = True\n",
    "    styles = document.styles\n",
    "    styles['Heading 1'].next_paragraph_style = styles['Body Text']\n",
    "    print(document.styles.keys())\n",
    "\n",
    "\n",
    "    # records = (\n",
    "    #     (3, '101', 'Spam'),\n",
    "    #     (7, '422', 'Eggs'),\n",
    "    #     (4, '631', 'Spam, spam, eggs, and spam')\n",
    "    # )\n",
    "\n",
    "    # table = document.add_table(rows=1, cols=3)\n",
    "    # hdr_cells = table.rows[0].cells\n",
    "    # hdr_cells[0].text = 'Qty'\n",
    "    # hdr_cells[1].text = 'Id'\n",
    "    # hdr_cells[2].text = 'Desc'\n",
    "    # for qty, id, desc in records:\n",
    "    #     row_cells = table.add_row().cells\n",
    "    #     row_cells[0].text = str(qty)\n",
    "    #     row_cells[1].text = id\n",
    "    #     row_cells[2].text = desc\n",
    "\n",
    "    # document.add_page_break()\n",
    "\n",
    "    document.save('demo2.docx')\n",
    "    return \"done\"\n",
    "\n",
    "generate_cv_2(\"m\")"
   ]
  },
  {
   "cell_type": "code",
   "execution_count": null,
   "metadata": {},
   "outputs": [],
   "source": []
  },
  {
   "cell_type": "code",
   "execution_count": null,
   "metadata": {},
   "outputs": [],
   "source": []
  },
  {
   "cell_type": "code",
   "execution_count": null,
   "metadata": {},
   "outputs": [],
   "source": []
  },
  {
   "cell_type": "code",
   "execution_count": null,
   "metadata": {},
   "outputs": [],
   "source": []
  },
  {
   "cell_type": "code",
   "execution_count": null,
   "metadata": {},
   "outputs": [],
   "source": []
  }
 ],
 "metadata": {
  "kernelspec": {
   "display_name": "env",
   "language": "python",
   "name": "python3"
  },
  "language_info": {
   "codemirror_mode": {
    "name": "ipython",
    "version": 3
   },
   "file_extension": ".py",
   "mimetype": "text/x-python",
   "name": "python",
   "nbconvert_exporter": "python",
   "pygments_lexer": "ipython3",
   "version": "3.9.12"
  },
  "orig_nbformat": 4,
  "vscode": {
   "interpreter": {
    "hash": "ffec7160822b705b33126d55ee05460b89e725ce052ef81ed8f66bba316e07c5"
   }
  }
 },
 "nbformat": 4,
 "nbformat_minor": 2
}

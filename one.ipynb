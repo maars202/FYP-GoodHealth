{
 "cells": [
  {
   "cell_type": "code",
   "execution_count": 2,
   "metadata": {},
   "outputs": [
    {
     "name": "stdout",
     "output_type": "stream",
     "text": [
      "Employee_ID = db.Column(db.String(50))\n",
      "Procedure_Name = db.Column(db.String(50))\n",
      "Date_of_Completion = db.Column(db.String(50))\n",
      "CPT = db.Column(db.String(50))\n",
      "Total = db.Column(db.String(50))\n",
      "Performed = db.Column(db.String(50))\n",
      "Observed = db.Column(db.String(50))\n",
      "Verified = db.Column(db.String(50))\n",
      "Certified = db.Column(db.String(50))\n",
      "Procedure_Log_deleted = db.Column(db.String(50))\n"
     ]
    }
   ],
   "source": [
    "def get_orm(sql_str):\n",
    "    complete = sql_str.split(\"\\n\")\n",
    "    table_names = []\n",
    "    for i in complete:\n",
    "        table_names += [i.split(\"`\")[1] + \" = db.Column(db.String(50))\"]\n",
    "    res = \"\\n\".join(table_names)\n",
    "    print(res)\n",
    "\n",
    "sql_str = \"\"\"`Employee_ID` varchar(50) NOT NULL,\n",
    "  `Procedure_Name` varchar(50) NOT NULL,\n",
    "  `Date_of_Completion` varchar(50) NOT NULL,\n",
    "  `CPT` varchar(50) NOT NULL,\n",
    "  `Total` varchar(50) NOT NULL,\n",
    "  `Performed` varchar(50) NOT NULL,\n",
    "  `Observed` varchar(50) NOT NULL,\n",
    "  `Verified` varchar(50) NOT NULL,\n",
    "  `Certified` varchar(50) NOT NULL,\n",
    "  `Procedure_Log_deleted` int(11) NOT NULL,\"\"\"\n",
    "\n",
    "get_orm(sql_str)"
   ]
  },
  {
   "cell_type": "code",
   "execution_count": 5,
   "metadata": {},
   "outputs": [
    {
     "name": "stdout",
     "output_type": "stream",
     "text": [
      "`Employee_ID`,`Procedure_Name`,`Date_of_Completion`,`CPT`,`Total`,`Performed`,`Observed`,`Verified`,`Certified`,`Procedure_Log_deleted`\n",
      "\n",
      "\n",
      "\n",
      "'Employee_ID111','Procedure_Name111','Date_of_Completion111','CPT111','Total111','Performed111','Observed111','Verified111','Certified111','Procedure_Log_deleted111'\n"
     ]
    }
   ],
   "source": [
    "def get_tables(sql_str):\n",
    "    complete = sql_str.split(\"\\n\")\n",
    "    table_names = []\n",
    "    for i in complete:\n",
    "        table_names += [\"`\" + i.split(\"`\")[1] + \"`\"]\n",
    "    res = \",\".join(table_names)\n",
    "    print(res)\n",
    "\n",
    "def get_examples(sql_str):\n",
    "    complete = sql_str.split(\"\\n\")\n",
    "    table_names = []\n",
    "    for i in complete:\n",
    "        table_names += [\"'\" + i.split(\"`\")[1] + \"111'\"]\n",
    "    res = \",\".join(table_names)\n",
    "    print(res)\n",
    "\n",
    "get_tables(sql_str)\n",
    "print(\"\\n\\n\")\n",
    "get_examples(sql_str)"
   ]
  },
  {
   "cell_type": "code",
   "execution_count": 7,
   "metadata": {},
   "outputs": [
    {
     "name": "stdout",
     "output_type": "stream",
     "text": [
      "Employee_ID = db.Column(db.String(50))\n",
      "Project_Type = db.Column(db.String(50))\n",
      "Project_Title = db.Column(db.String(50))\n",
      "Project_ID = db.Column(db.String(50))\n",
      "Start_Date = db.Column(db.String(50))\n",
      "End_Date = db.Column(db.String(50))\n",
      "Date_of_QI_Certification = db.Column(db.String(50))\n",
      "PMID = db.Column(db.String(50))\n",
      "Project_deleted = db.Column(db.String(50))\n",
      "\n",
      "\n",
      "\n",
      "`Employee_ID`,`Project_Type`,`Project_Title`,`Project_ID`,`Start_Date`,`End_Date`,`Date_of_QI_Certification`,`PMID`,`Project_deleted`\n",
      "\n",
      "\n",
      "\n",
      "'Employee_ID111','Project_Type111','Project_Title111','Project_ID111','Start_Date111','End_Date111','Date_of_QI_Certification111','PMID111','Project_deleted111'\n"
     ]
    }
   ],
   "source": [
    "sql_str = \"\"\"`Employee_ID` varchar(50) NOT NULL,\n",
    "  `Project_Type` varchar(50) NOT NULL,\n",
    "  `Project_Title` varchar(100) NOT NULL,\n",
    "  `Project_ID` varchar(50) NOT NULL,\n",
    "  `Start_Date` varchar(50) NOT NULL,\n",
    "  `End_Date` varchar(50) NOT NULL,\n",
    "  `Date_of_QI_Certification` varchar(50) DEFAULT NULL,\n",
    "  `PMID` varchar(50) DEFAULT NULL,\n",
    "  `Project_deleted` tinyint(1) DEFAULT '0',\"\"\"\n",
    "\n",
    "get_orm(sql_str)\n",
    "print(\"\\n\\n\")\n",
    "get_tables(sql_str)\n",
    "print(\"\\n\\n\")\n",
    "get_examples(sql_str)"
   ]
  },
  {
   "cell_type": "code",
   "execution_count": 8,
   "metadata": {},
   "outputs": [
    {
     "name": "stdout",
     "output_type": "stream",
     "text": [
      "Employee_ID = db.Column(db.String(50))\n",
      "Publication_Title = db.Column(db.String(50))\n",
      "Journal_Title = db.Column(db.String(50))\n",
      "PMID = db.Column(db.String(50))\n",
      "Publication_Date = db.Column(db.String(50))\n",
      "Publication_deleted = db.Column(db.String(50))\n",
      "\n",
      "\n",
      "\n",
      "`Employee_ID`,`Publication_Title`,`Journal_Title`,`PMID`,`Publication_Date`,`Publication_deleted`\n",
      "\n",
      "\n",
      "\n",
      "'Employee_ID111','Publication_Title111','Journal_Title111','PMID111','Publication_Date111','Publication_deleted111'\n"
     ]
    }
   ],
   "source": [
    "sql_str = \"\"\"`Employee_ID` varchar(50) NOT NULL,\n",
    "  `Publication_Title` varchar(50) NOT NULL,\n",
    "  `Journal_Title` varchar(50) NOT NULL,\n",
    "  `PMID` varchar(50) NOT NULL,\n",
    "  `Publication_Date` varchar(50) NOT NULL,\n",
    "  `Publication_deleted` tinyint(1) DEFAULT '0',\"\"\"\n",
    "\n",
    "\n",
    "get_orm(sql_str)\n",
    "print(\"\\n\\n\")\n",
    "get_tables(sql_str)\n",
    "print(\"\\n\\n\")\n",
    "get_examples(sql_str)"
   ]
  },
  {
   "cell_type": "code",
   "execution_count": 9,
   "metadata": {},
   "outputs": [
    {
     "name": "stdout",
     "output_type": "stream",
     "text": [
      "Employee_ID = db.Column(db.String(50))\n",
      "LOAPIP = db.Column(db.String(50))\n",
      "StartDate = db.Column(db.String(50))\n",
      "EndDate = db.Column(db.String(50))\n",
      "TrgExtRemHistory_deleted = db.Column(db.String(50))\n",
      "\n",
      "\n",
      "\n",
      "`Employee_ID`,`LOAPIP`,`StartDate`,`EndDate`,`TrgExtRemHistory_deleted`\n",
      "\n",
      "\n",
      "\n",
      "'Employee_ID111','LOAPIP111','StartDate111','EndDate111','TrgExtRemHistory_deleted111'\n"
     ]
    }
   ],
   "source": [
    "sql_str = \"\"\"`Employee_ID` varchar(100) DEFAULT ' ',\n",
    "  `LOAPIP` varchar(100) DEFAULT NULL,\n",
    "  `StartDate` varchar(50) DEFAULT NULL,\n",
    "  `EndDate` varchar(50) DEFAULT NULL,\n",
    "  `TrgExtRemHistory_deleted` tinyint(1) DEFAULT '0',\"\"\"\n",
    "\n",
    "get_orm(sql_str)\n",
    "print(\"\\n\\n\")\n",
    "get_tables(sql_str)\n",
    "print(\"\\n\\n\")\n",
    "get_examples(sql_str)"
   ]
  },
  {
   "cell_type": "code",
   "execution_count": null,
   "metadata": {},
   "outputs": [],
   "source": []
  },
  {
   "cell_type": "code",
   "execution_count": null,
   "metadata": {},
   "outputs": [],
   "source": [
    "# https://hackersandslackers.com/flask-routes/"
   ]
  },
  {
   "cell_type": "code",
   "execution_count": null,
   "metadata": {},
   "outputs": [],
   "source": []
  }
 ],
 "metadata": {
  "kernelspec": {
   "display_name": "Python 3",
   "language": "python",
   "name": "python3"
  },
  "language_info": {
   "codemirror_mode": {
    "name": "ipython",
    "version": 3
   },
   "file_extension": ".py",
   "mimetype": "text/x-python",
   "name": "python",
   "nbconvert_exporter": "python",
   "pygments_lexer": "ipython3",
   "version": "3.10.8"
  },
  "orig_nbformat": 4,
  "vscode": {
   "interpreter": {
    "hash": "b0fa6594d8f4cbf19f97940f81e996739fb7646882a419484c72d19e05852a7e"
   }
  }
 },
 "nbformat": 4,
 "nbformat_minor": 2
}

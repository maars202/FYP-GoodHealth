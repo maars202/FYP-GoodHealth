{
 "cells": [
  {
   "cell_type": "code",
   "execution_count": 2,
   "metadata": {},
   "outputs": [
    {
     "name": "stdout",
     "output_type": "stream",
     "text": [
      "Employee_ID = db.Column(db.String(50))\n",
      "Procedure_Name = db.Column(db.String(50))\n",
      "Date_of_Completion = db.Column(db.String(50))\n",
      "CPT = db.Column(db.String(50))\n",
      "Total = db.Column(db.String(50))\n",
      "Performed = db.Column(db.String(50))\n",
      "Observed = db.Column(db.String(50))\n",
      "Verified = db.Column(db.String(50))\n",
      "Certified = db.Column(db.String(50))\n",
      "Procedure_Log_deleted = db.Column(db.String(50))\n"
     ]
    }
   ],
   "source": [
    "def get_orm(sql_str):\n",
    "    complete = sql_str.split(\"\\n\")\n",
    "    table_names = []\n",
    "    for i in complete:\n",
    "        table_names += [i.split(\"`\")[1] + \" = db.Column(db.String(50))\"]\n",
    "    res = \"\\n\".join(table_names)\n",
    "    print(res)\n",
    "\n",
    "sql_str = \"\"\"`Employee_ID` varchar(50) NOT NULL,\n",
    "  `Procedure_Name` varchar(50) NOT NULL,\n",
    "  `Date_of_Completion` varchar(50) NOT NULL,\n",
    "  `CPT` varchar(50) NOT NULL,\n",
    "  `Total` varchar(50) NOT NULL,\n",
    "  `Performed` varchar(50) NOT NULL,\n",
    "  `Observed` varchar(50) NOT NULL,\n",
    "  `Verified` varchar(50) NOT NULL,\n",
    "  `Certified` varchar(50) NOT NULL,\n",
    "  `Procedure_Log_deleted` int(11) NOT NULL,\"\"\"\n",
    "\n",
    "get_orm(sql_str)"
   ]
  },
  {
   "cell_type": "code",
   "execution_count": null,
   "metadata": {},
   "outputs": [],
   "source": []
  },
  {
   "cell_type": "code",
   "execution_count": null,
   "metadata": {},
   "outputs": [],
   "source": []
  },
  {
   "cell_type": "code",
   "execution_count": null,
   "metadata": {},
   "outputs": [],
   "source": []
  },
  {
   "cell_type": "code",
   "execution_count": null,
   "metadata": {},
   "outputs": [],
   "source": []
  }
 ],
 "metadata": {
  "kernelspec": {
   "display_name": "Python 3",
   "language": "python",
   "name": "python3"
  },
  "language_info": {
   "codemirror_mode": {
    "name": "ipython",
    "version": 3
   },
   "file_extension": ".py",
   "mimetype": "text/x-python",
   "name": "python",
   "nbconvert_exporter": "python",
   "pygments_lexer": "ipython3",
   "version": "3.10.8"
  },
  "orig_nbformat": 4,
  "vscode": {
   "interpreter": {
    "hash": "b0fa6594d8f4cbf19f97940f81e996739fb7646882a419484c72d19e05852a7e"
   }
  }
 },
 "nbformat": 4,
 "nbformat_minor": 2
}
